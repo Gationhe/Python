{
  "nbformat": 4,
  "nbformat_minor": 0,
  "metadata": {
    "colab": {
      "provenance": [],
      "authorship_tag": "ABX9TyNYHcSCk265QnXGmGllOWm+",
      "include_colab_link": true
    },
    "kernelspec": {
      "name": "python3",
      "display_name": "Python 3"
    },
    "language_info": {
      "name": "python"
    }
  },
  "cells": [
    {
      "cell_type": "markdown",
      "metadata": {
        "id": "view-in-github",
        "colab_type": "text"
      },
      "source": [
        "<a href=\"https://colab.research.google.com/github/Gationhe/Python/blob/main/Scipy.ipynb\" target=\"_parent\"><img src=\"https://colab.research.google.com/assets/colab-badge.svg\" alt=\"Open In Colab\"/></a>"
      ]
    },
    {
      "cell_type": "code",
      "source": [
        "import scipy\n",
        "import numpy as np"
      ],
      "metadata": {
        "id": "eQ8D7Qci0rSv"
      },
      "execution_count": 1,
      "outputs": []
    },
    {
      "cell_type": "code",
      "execution_count": 2,
      "metadata": {
        "colab": {
          "base_uri": "https://localhost:8080/"
        },
        "id": "K63ZkWNWc5k5",
        "outputId": "fc9cbc22-9241-430e-f939-cc1448f3e212"
      },
      "outputs": [
        {
          "output_type": "stream",
          "name": "stdout",
          "text": [
            "1.15.3\n"
          ]
        }
      ],
      "source": [
        "print(scipy.__version__)"
      ]
    },
    {
      "cell_type": "markdown",
      "source": [
        "# Constants"
      ],
      "metadata": {
        "id": "D5UX9QfU1pNq"
      }
    },
    {
      "cell_type": "markdown",
      "source": [
        "Related to SI unit."
      ],
      "metadata": {
        "id": "UhT33l0z1q-Y"
      }
    },
    {
      "cell_type": "code",
      "source": [
        "from scipy import constants\n",
        "\n",
        "print(constants.liter)\n",
        "print(constants.pi)\n",
        "\n",
        "# a list of all units under the constants module can be seen using dir()\n",
        "print(dir(constants))"
      ],
      "metadata": {
        "colab": {
          "base_uri": "https://localhost:8080/"
        },
        "id": "I_iDJ-aHdoAu",
        "outputId": "4f4c6a9a-4445-48bc-dbde-ba57f57d0ed6"
      },
      "execution_count": 22,
      "outputs": [
        {
          "output_type": "stream",
          "name": "stdout",
          "text": [
            "0.001\n",
            "3.141592653589793\n",
            "['Avogadro', 'Boltzmann', 'Btu', 'Btu_IT', 'Btu_th', 'ConstantWarning', 'G', 'Julian_year', 'N_A', 'Planck', 'R', 'Rydberg', 'Stefan_Boltzmann', 'Wien', '__all__', '__builtins__', '__cached__', '__doc__', '__file__', '__loader__', '__name__', '__package__', '__path__', '__spec__', '_codata', '_constants', '_obsolete_constants', 'acre', 'alpha', 'angstrom', 'arcmin', 'arcminute', 'arcsec', 'arcsecond', 'astronomical_unit', 'atm', 'atmosphere', 'atomic_mass', 'atto', 'au', 'bar', 'barrel', 'bbl', 'blob', 'c', 'calorie', 'calorie_IT', 'calorie_th', 'carat', 'centi', 'codata', 'constants', 'convert_temperature', 'day', 'deci', 'degree', 'degree_Fahrenheit', 'deka', 'dyn', 'dyne', 'e', 'eV', 'electron_mass', 'electron_volt', 'elementary_charge', 'epsilon_0', 'erg', 'exa', 'exbi', 'femto', 'fermi', 'find', 'fine_structure', 'fluid_ounce', 'fluid_ounce_US', 'fluid_ounce_imp', 'foot', 'g', 'gallon', 'gallon_US', 'gallon_imp', 'gas_constant', 'gibi', 'giga', 'golden', 'golden_ratio', 'grain', 'gram', 'gravitational_constant', 'h', 'hbar', 'hectare', 'hecto', 'horsepower', 'hour', 'hp', 'inch', 'k', 'kgf', 'kibi', 'kilo', 'kilogram_force', 'kmh', 'knot', 'lambda2nu', 'lb', 'lbf', 'light_year', 'liter', 'litre', 'long_ton', 'm_e', 'm_n', 'm_p', 'm_u', 'mach', 'mebi', 'mega', 'metric_ton', 'micro', 'micron', 'mil', 'mile', 'milli', 'minute', 'mmHg', 'mph', 'mu_0', 'nano', 'nautical_mile', 'neutron_mass', 'nu2lambda', 'ounce', 'oz', 'parsec', 'pebi', 'peta', 'physical_constants', 'pi', 'pico', 'point', 'pound', 'pound_force', 'precision', 'proton_mass', 'psi', 'pt', 'quecto', 'quetta', 'ronna', 'ronto', 'short_ton', 'sigma', 'slinch', 'slug', 'speed_of_light', 'speed_of_sound', 'stone', 'survey_foot', 'survey_mile', 'tebi', 'tera', 'test', 'ton_TNT', 'torr', 'troy_ounce', 'troy_pound', 'u', 'unit', 'value', 'week', 'yard', 'year', 'yobi', 'yocto', 'yotta', 'zebi', 'zepto', 'zero_Celsius', 'zetta']\n"
          ]
        }
      ]
    },
    {
      "cell_type": "markdown",
      "source": [
        "# Optimizers"
      ],
      "metadata": {
        "id": "QHigeK5LgVlZ"
      }
    },
    {
      "cell_type": "code",
      "source": [
        "from scipy.optimize import root\n",
        "\n",
        "def f(x):\n",
        "  return x + np.cos(x)\n",
        "\n",
        "myroot = root(f, 0) # root(function, intial_guess)\n",
        "print(myroot.x)\n",
        "print(myroot) # More info. about root"
      ],
      "metadata": {
        "colab": {
          "base_uri": "https://localhost:8080/"
        },
        "id": "2WLnedmZgZco",
        "outputId": "639b60c4-9d0a-4e54-b115-5529211299dd"
      },
      "execution_count": 33,
      "outputs": [
        {
          "output_type": "stream",
          "name": "stdout",
          "text": [
            "[-0.73908513]\n",
            " message: The solution converged.\n",
            " success: True\n",
            "  status: 1\n",
            "     fun: [ 0.000e+00]\n",
            "       x: [-7.391e-01]\n",
            "  method: hybr\n",
            "    nfev: 11\n",
            "    fjac: [[-1.000e+00]]\n",
            "       r: [-1.674e+00]\n",
            "     qtf: [-2.668e-13]\n"
          ]
        }
      ]
    },
    {
      "cell_type": "code",
      "source": [
        "from scipy.optimize import minimize\n",
        "\n",
        "def f(x):\n",
        "  return x**2 + x + 2\n",
        "\n",
        "mymin = minimize(f, 0) # minimize(function, intial_guess, method)\n",
        "\n",
        "print(mymin)"
      ],
      "metadata": {
        "id": "BaLJSDyUhYPy",
        "colab": {
          "base_uri": "https://localhost:8080/"
        },
        "outputId": "f93dcff4-342b-4bca-af5d-c69f954a3097"
      },
      "execution_count": 36,
      "outputs": [
        {
          "output_type": "stream",
          "name": "stdout",
          "text": [
            "  message: Optimization terminated successfully.\n",
            "  success: True\n",
            "   status: 0\n",
            "      fun: 1.75\n",
            "        x: [-5.000e-01]\n",
            "      nit: 2\n",
            "      jac: [ 0.000e+00]\n",
            " hess_inv: [[ 5.000e-01]]\n",
            "     nfev: 8\n",
            "     njev: 4\n"
          ]
        }
      ]
    },
    {
      "cell_type": "markdown",
      "source": [
        "Note: If not given method, chosen to be one of BFGS, L-BFGS-B, SLSQP, depending on whether or not the problem has constraints or bounds."
      ],
      "metadata": {
        "id": "x7guFSzin5fn"
      }
    },
    {
      "cell_type": "markdown",
      "source": [
        "# Sparse Data"
      ],
      "metadata": {
        "id": "XsSzCWHujCNA"
      }
    },
    {
      "cell_type": "markdown",
      "source": [
        "SciPy has a module, *scipy.sparse* that provides functions to deal with sparse data.  \n",
        "There are primarily two types of sparse matrices that we use:  \n",
        "*   CSC - Compressed Sparse Column. For efficient arithmetic, fast column slicing.\n",
        "*   CSR - Compressed Sparse Row. For fast row slicing, faster matrix vector products"
      ],
      "metadata": {
        "id": "r66T23GCjGrF"
      }
    },
    {
      "cell_type": "code",
      "source": [
        "from scipy.sparse import csr_matrix\n",
        "\n",
        "arr = np.array([0, 0, 0, 0, 0, 1, 1, 0, 2])\n",
        "\n",
        "print(csr_matrix(arr)) # create CSR matrix from array"
      ],
      "metadata": {
        "id": "-dXbLfesjEG_",
        "colab": {
          "base_uri": "https://localhost:8080/"
        },
        "outputId": "3cc8e3ab-d770-4aee-87b5-5d129618cc4e"
      },
      "execution_count": 11,
      "outputs": [
        {
          "output_type": "stream",
          "name": "stdout",
          "text": [
            "<Compressed Sparse Row sparse matrix of dtype 'int64'\n",
            "\twith 3 stored elements and shape (1, 9)>\n",
            "  Coords\tValues\n",
            "  (0, 5)\t1\n",
            "  (0, 6)\t1\n",
            "  (0, 8)\t2\n"
          ]
        }
      ]
    },
    {
      "cell_type": "code",
      "source": [
        "arr = np.resize(arr, (3, 3)) # 1x9 to 3x3\n",
        "\n",
        "print(csr_matrix(arr).data) # view stored data (nonzero items)\n",
        "print(csr_matrix(arr).count_nonzero()) # count num. of nonzero items"
      ],
      "metadata": {
        "colab": {
          "base_uri": "https://localhost:8080/"
        },
        "id": "KdSbvxX1VPt4",
        "outputId": "5cca1406-1415-4fa4-cb8f-e981077d824a"
      },
      "execution_count": 17,
      "outputs": [
        {
          "output_type": "stream",
          "name": "stdout",
          "text": [
            "[1 1 2]\n",
            "3\n"
          ]
        }
      ]
    },
    {
      "cell_type": "code",
      "source": [
        "M = csr_matrix(arr)\n",
        "\n",
        "# remove zero entries from matrix\n",
        "M.eliminate_zeros()\n",
        "print(M)\n",
        "\n",
        "# eliminate duplicates\n",
        "M.sum_duplicates()\n",
        "print(M)\n",
        "\n",
        "# convert from CSR to CSC\n",
        "print(csr_matrix(arr).tocsc())"
      ],
      "metadata": {
        "colab": {
          "base_uri": "https://localhost:8080/"
        },
        "id": "N843csDRW-T0",
        "outputId": "ce2c14f4-3629-4cf8-d197-260c6f95cb0e"
      },
      "execution_count": 21,
      "outputs": [
        {
          "output_type": "stream",
          "name": "stdout",
          "text": [
            "<Compressed Sparse Row sparse matrix of dtype 'int64'\n",
            "\twith 3 stored elements and shape (3, 3)>\n",
            "  Coords\tValues\n",
            "  (1, 2)\t1\n",
            "  (2, 0)\t1\n",
            "  (2, 2)\t2\n",
            "<Compressed Sparse Row sparse matrix of dtype 'int64'\n",
            "\twith 3 stored elements and shape (3, 3)>\n",
            "  Coords\tValues\n",
            "  (1, 2)\t1\n",
            "  (2, 0)\t1\n",
            "  (2, 2)\t2\n",
            "<Compressed Sparse Column sparse matrix of dtype 'int64'\n",
            "\twith 3 stored elements and shape (3, 3)>\n",
            "  Coords\tValues\n",
            "  (2, 0)\t1\n",
            "  (1, 2)\t1\n",
            "  (2, 2)\t2\n"
          ]
        }
      ]
    },
    {
      "cell_type": "markdown",
      "source": [
        "Note: Apart from the mentioned sparse specific operations, sparse matrices support all of the operations that normal matrices support e.g. reshaping, summing, arithemetic, broadcasting etc."
      ],
      "metadata": {
        "id": "ZY_Vf4IKYVqt"
      }
    },
    {
      "cell_type": "markdown",
      "source": [
        "# Graphs"
      ],
      "metadata": {
        "id": "v4Nu6-BUYxR-"
      }
    },
    {
      "cell_type": "markdown",
      "source": [
        "SciPy provides us with the module *scipy.sparse.csgraph* for working with graphs."
      ],
      "metadata": {
        "id": "PtZHwpPwZXJ1"
      }
    },
    {
      "cell_type": "markdown",
      "source": [
        "Definition (Adjacency Matrix):  \n",
        "Adjacency matrix is a nxn matrix where n is the number of elements in a graph. Moreover, the values represents the connection between the elements."
      ],
      "metadata": {
        "id": "T-B0-EWuZgLQ"
      }
    },
    {
      "cell_type": "code",
      "source": [
        "from scipy.sparse.csgraph import connected_components\n",
        "from scipy.sparse import csr_matrix\n",
        "\n",
        "arr = np.array([\n",
        "  [0, 1, 2],\n",
        "  [1, 0, 0],\n",
        "  [2, 0, 0]\n",
        "])\n",
        "\n",
        "M = csr_matrix(arr)\n",
        "\n",
        "print(connected_components(M))"
      ],
      "metadata": {
        "colab": {
          "base_uri": "https://localhost:8080/"
        },
        "id": "6Yk6p6R8aDrz",
        "outputId": "237dddb9-88d9-4fc4-9bbd-0c081d09ef5f"
      },
      "execution_count": 23,
      "outputs": [
        {
          "output_type": "stream",
          "name": "stdout",
          "text": [
            "(1, array([0, 0, 0], dtype=int32))\n"
          ]
        }
      ]
    },
    {
      "cell_type": "markdown",
      "source": [
        "Returns (of connected_components()):  \n",
        "*   n_components: the number of connected components.\n",
        "*   labels: the length-N array of labels of the connected components."
      ],
      "metadata": {
        "id": "UK1ckfzSbJ8U"
      }
    },
    {
      "cell_type": "markdown",
      "source": [
        "More information about graphs, please refer to https://www.w3schools.com/python/scipy/scipy_graphs.php."
      ],
      "metadata": {
        "id": "UK9_UOR-bzjG"
      }
    },
    {
      "cell_type": "markdown",
      "source": [
        "# Spatial Data"
      ],
      "metadata": {
        "id": "PZonqkUNciW2"
      }
    },
    {
      "cell_type": "markdown",
      "source": [
        "Spatial data refers to data that is represented in a geometric space.\n",
        "\n",
        "SciPy provides us with the module *scipy.spatial*, which has functions for working with spatial data."
      ],
      "metadata": {
        "id": "rzPG5yyDcjq_"
      }
    },
    {
      "cell_type": "markdown",
      "source": [
        "*   A Triangulation of a polygon is to divide the polygon into multiple triangles with which we can compute an area of the polygon.\n",
        "*   A Triangulation with points means creating surface composed triangles in which all of the given points are on at least one vertex of any triangle in the surface."
      ],
      "metadata": {
        "id": "XFUHVrCbfbH_"
      }
    },
    {
      "cell_type": "code",
      "source": [
        "from scipy.spatial import Delaunay\n",
        "import matplotlib.pyplot as plt\n",
        "\n",
        "points = np.array([\n",
        "  [2, 4],\n",
        "  [3, 4],\n",
        "  [3, 0],\n",
        "  [2, 2],\n",
        "  [4, 1]\n",
        "])\n",
        "\n",
        "simplices = Delaunay(points).simplices # generate these triangulations through points\n",
        "\n",
        "plt.triplot(points[:, 0], points[:, 1], simplices)\n",
        "plt.scatter(points[:, 0], points[:, 1], color='r')\n",
        "\n",
        "plt.show()"
      ],
      "metadata": {
        "colab": {
          "base_uri": "https://localhost:8080/",
          "height": 430
        },
        "id": "6NFbwSGhdkot",
        "outputId": "3ac5dd2c-72e3-484e-a6f8-85aefa982147"
      },
      "execution_count": 24,
      "outputs": [
        {
          "output_type": "display_data",
          "data": {
            "text/plain": [
              "<Figure size 640x480 with 1 Axes>"
            ],
            "image/png": "[encoded data removed]"
          },
          "metadata": {}
        }
      ]
    },
    {
      "cell_type": "markdown",
      "source": [
        "Note: The simplices property creates a generalization of the triangle notation."
      ],
      "metadata": {
        "id": "nGCVUf1veLoh"
      }
    },
    {
      "cell_type": "markdown",
      "source": [
        "Convex Hull: the smallest polygon that covers all of the given points."
      ],
      "metadata": {
        "id": "qzA0KwCtfwPp"
      }
    },
    {
      "cell_type": "code",
      "source": [
        "from scipy.spatial import ConvexHull\n",
        "import matplotlib.pyplot as plt\n",
        "\n",
        "points = np.array([\n",
        "  [2, 4],\n",
        "  [3, 4],\n",
        "  [3, 0],\n",
        "  [2, 2],\n",
        "  [4, 1],\n",
        "  [1, 2],\n",
        "  [5, 0],\n",
        "  [3, 1],\n",
        "  [1, 2],\n",
        "  [0, 2]\n",
        "])\n",
        "\n",
        "hull = ConvexHull(points)\n",
        "\n",
        "plt.scatter(points[:,0], points[:,1])\n",
        "for simplex in hull.simplices:\n",
        "  plt.plot(points[simplex, 0], points[simplex, 1])\n",
        "plt.show()"
      ],
      "metadata": {
        "colab": {
          "base_uri": "https://localhost:8080/",
          "height": 430
        },
        "id": "eQQblDRUf0W8",
        "outputId": "3326ae03-ccd5-4c67-dfaf-92fe94d5d235"
      },
      "execution_count": 27,
      "outputs": [
        {
          "output_type": "display_data",
          "data": {
            "text/plain": [
              "<Figure size 640x480 with 1 Axes>"
            ],
            "image/png": "[encoded data removed]"
          },
          "metadata": {}
        }
      ]
    },
    {
      "cell_type": "markdown",
      "source": [
        "KDTrees: datastructure optimized for nearest neighbor queries.\n",
        "*   KDTree(): return a KDTree object.\n",
        "*   query(): return the distance to the nearest neighbor and the location of the neighbors.\n",
        "\n"
      ],
      "metadata": {
        "id": "aWU3swrRjZ-C"
      }
    },
    {
      "cell_type": "code",
      "source": [
        "from scipy.spatial import KDTree\n",
        "\n",
        "points = [(1, -1), (2, 3), (-2, 3), (2, -3)]\n",
        "\n",
        "print(KDTree(points).query((1, 1))) # find the nearest neighbor to point (1,1)"
      ],
      "metadata": {
        "colab": {
          "base_uri": "https://localhost:8080/"
        },
        "id": "5n5XGK4ljZCC",
        "outputId": "918b96f0-8cc9-4ed6-ca08-38d37d3ad067"
      },
      "execution_count": 29,
      "outputs": [
        {
          "output_type": "stream",
          "name": "stdout",
          "text": [
            "(2.0, np.int64(0))\n"
          ]
        }
      ]
    },
    {
      "cell_type": "markdown",
      "source": [
        "See the distance:"
      ],
      "metadata": {
        "id": "SGbom1kklHJN"
      }
    },
    {
      "cell_type": "code",
      "source": [
        "from scipy.spatial.distance import euclidean, cosine, hamming\n",
        "\n",
        "p1 = (1, 0)\n",
        "p2 = (10, 2)\n",
        "\n",
        "a = (True, False, True)\n",
        "b = (False, True, True)\n",
        "\n",
        "print(f\"The Euclidean distance between p1 and p2 is {euclidean(p1, p2)}.\")\n",
        "print(f\"The cosine distance between p1 and p2 is {cosine(p1, p2)}.\")\n",
        "print(f\"The Hamming distance between a and b is {hamming(a, b)}.\")"
      ],
      "metadata": {
        "colab": {
          "base_uri": "https://localhost:8080/"
        },
        "id": "pM2lxnaPlP1E",
        "outputId": "e5aa7d55-c6d3-43e6-90da-9ad8998875e5"
      },
      "execution_count": 32,
      "outputs": [
        {
          "output_type": "stream",
          "name": "stdout",
          "text": [
            "The Euclidean distance between p1 and p2 is 9.219544457292887.\n",
            "The cosine distance between p1 and p2 is 0.019419324309079777.\n",
            "The Hamming distance between a and b is 0.6666666666666666.\n"
          ]
        }
      ]
    },
    {
      "cell_type": "markdown",
      "source": [
        "Remark:  \n",
        "Cosine Distance: the value of cosine angle between two points.  \n",
        "Hamming Distance: the proportion of bits where two bits are different."
      ],
      "metadata": {
        "id": "QPMF1AugmA8M"
      }
    },
    {
      "cell_type": "markdown",
      "source": [
        "# Matlab Arrays"
      ],
      "metadata": {
        "id": "c9J_9MgimdU8"
      }
    },
    {
      "cell_type": "markdown",
      "source": [
        "SciPy provides us with the module *scipy.io*, which has functions for working with Matlab arrays."
      ],
      "metadata": {
        "id": "MJ3u5K0DmoTm"
      }
    },
    {
      "cell_type": "code",
      "source": [
        "from scipy import io\n",
        "\n",
        "arr = np.arange(10) # [0, 1, 2, 3, 4, 5, 6, 7, 8, 9]\n",
        "\n",
        "io.savemat(\"array.mat\", {\"vec\": arr}) # savemat(filename, mdict, do_compression = False)\n",
        "\n",
        "mydata = io.loadmat(\"array.mat\") # loadmat(filename)\n",
        "\n",
        "print(mydata)\n",
        "print(mydata['vec']) # note: the dimension is increased by 1, solution: loadmat(filename, squeeze_me = True)"
      ],
      "metadata": {
        "colab": {
          "base_uri": "https://localhost:8080/"
        },
        "id": "xQgHiqWTm6TX",
        "outputId": "8f9756a3-6857-4dfc-9c07-6196b0f7a79c"
      },
      "execution_count": 6,
      "outputs": [
        {
          "output_type": "stream",
          "name": "stdout",
          "text": [
            "{'__header__': b'MATLAB 5.0 MAT-file Platform: posix, Created on: Fri Jun 13 03:25:49 2025', '__version__': '1.0', '__globals__': [], 'vec': array([[0, 1, 2, 3, 4, 5, 6, 7, 8, 9]])}\n",
            "[[0 1 2 3 4 5 6 7 8 9]]\n"
          ]
        }
      ]
    },
    {
      "cell_type": "markdown",
      "source": [
        "# Interpolation"
      ],
      "metadata": {
        "id": "E0WZ7W3cptlO"
      }
    },
    {
      "cell_type": "markdown",
      "source": [
        "*   Interpolation: the method for generating points between given points.\n",
        "*   Imputation: the method of filling values.\n",
        "\n",
        "SciPy provides us with a module called *scipy.interpolate* which has many functions to deal with interpolation."
      ],
      "metadata": {
        "id": "y8I51FsEpwBQ"
      }
    },
    {
      "cell_type": "code",
      "source": [
        "from scipy.interpolate import interp1d # 1D Interpolation\n",
        "from scipy.interpolate import UnivariateSpline # Spline Interpolation\n",
        "from scipy.interpolate import Rbf # Radial Basis Interpolation\n",
        "\n",
        "x = np.arange(10)\n",
        "y = 2 * x + 1\n",
        "z = x**2 + np.sin(x) + 1\n",
        "\n",
        "p1 = interp1d(x, y)\n",
        "p2 = UnivariateSpline(x, z)\n",
        "p3 = Rbf(x, z)\n",
        "\n",
        "a1 = p1(np.arange(2, 3, 0.1))\n",
        "a2 = p2(np.arange(2, 3, 0.1))\n",
        "a3 = p3(np.arange(2, 3, 0.1))\n",
        "\n",
        "print(f\"{a1}\\n\")\n",
        "print(f\"{a2}\\n\")\n",
        "print(f\"{a3}\\n\")"
      ],
      "metadata": {
        "colab": {
          "base_uri": "https://localhost:8080/"
        },
        "id": "2-WkJM6vqCfQ",
        "outputId": "1082f241-8259-4789-fedf-cb84220552b9"
      },
      "execution_count": 7,
      "outputs": [
        {
          "output_type": "stream",
          "name": "stdout",
          "text": [
            "[5.  5.2 5.4 5.6 5.8 6.  6.2 6.4 6.6 6.8]\n",
            "\n",
            "[5.23644763 5.62826474 6.03987348 6.47131994 6.92265019 7.3939103\n",
            " 7.88514634 8.39640439 8.92773053 9.47917082]\n",
            "\n",
            "[5.90929743 6.25748981 6.62190817 7.00310702 7.40121814 7.8161443\n",
            " 8.24773402 8.69590519 9.16070828 9.64233874]\n",
            "\n"
          ]
        }
      ]
    },
    {
      "cell_type": "markdown",
      "source": [
        "Radial basis function: a function that is defined corresponding to a fixed reference point."
      ],
      "metadata": {
        "id": "b-H_PHTssjsz"
      }
    },
    {
      "cell_type": "markdown",
      "source": [
        "# Significance Test"
      ],
      "metadata": {
        "id": "nSUxE1vlwJWz"
      }
    },
    {
      "cell_type": "markdown",
      "source": [
        "SciPy provides us with a module called *scipy.stats*, which has functions for performing statistical significance tests.  \n",
        "*   Null Hypothesis: the observation is not statistically significant.\n",
        "*   Alternate Hypothesis: the observations are due to some reason and alternate to Null Hypothesis.\n",
        "*   One tailed test: our hypothesis is testing for one side of the value only.\n",
        "*   Two tailed test: our hypothesis is testing for both side of the values.\n",
        "*   Alpha value: the level of significance.\n",
        "*   P value: how close to extreme the data actually is.\n",
        "*   T-Test: to determine if there is significant deference between means of two variables and lets us know if they belong to the same distribution.\n",
        "*   KS-Test: to check if given values follow a distribution."
      ],
      "metadata": {
        "id": "d_dTGLo8wZpy"
      }
    },
    {
      "cell_type": "code",
      "source": [
        "from scipy.stats import ttest_ind # T-Test\n",
        "from scipy.stats import kstest # KS-Test\n",
        "from scipy.stats import describe\n",
        "from scipy.stats import skew, kurtosis # 偏度、峰度\n",
        "from scipy.stats import normaltest\n",
        "\n",
        "v = np.random.normal(size = 100)\n",
        "w = np.random.normal(size = 100)\n",
        "\n",
        "print(ttest_ind(v, w).pvalue)\n",
        "print(kstest(v, w).pvalue)\n",
        "print(describe(v))\n",
        "print(skew(v))\n",
        "print(kurtosis(v))\n",
        "print(normaltest(v))"
      ],
      "metadata": {
        "colab": {
          "base_uri": "https://localhost:8080/"
        },
        "id": "JH6J_unAwOVF",
        "outputId": "02607e82-e4c1-406a-dda9-3dec0cc60731"
      },
      "execution_count": 8,
      "outputs": [
        {
          "output_type": "stream",
          "name": "stdout",
          "text": [
            "0.10884145845202232\n",
            "0.36818778606286096\n",
            "DescribeResult(nobs=100, minmax=(np.float64(-2.2648777196807552), np.float64(2.8640877070748614)), mean=np.float64(0.03919389515982659), variance=np.float64(1.1156265797401173), skewness=np.float64(0.18771218231375755), kurtosis=np.float64(-0.2081313147932642))\n",
            "0.18771218231375755\n",
            "-0.2081313147932642\n",
            "NormaltestResult(statistic=np.float64(0.6891594465773114), pvalue=np.float64(0.7085180645449967))\n"
          ]
        }
      ]
    },
    {
      "cell_type": "markdown",
      "source": [
        "# Reference(s)"
      ],
      "metadata": {
        "id": "GWXcZKLH05bR"
      }
    },
    {
      "cell_type": "markdown",
      "source": [
        "W3Schools: https://www.w3schools.com/python/scipy/index.php"
      ],
      "metadata": {
        "id": "9JJDQANc09wm"
      }
    }
  ]
}